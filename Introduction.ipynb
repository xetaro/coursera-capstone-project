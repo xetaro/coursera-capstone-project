{
 "cells": [
  {
   "cell_type": "markdown",
   "metadata": {},
   "source": [
    "### Introduction"
   ]
  },
  {
   "cell_type": "markdown",
   "metadata": {
    "collapsed": true
   },
   "source": [
    "\n",
    "Toronto is the capital city of the Canadian province of Ontario.\n",
    "\n",
    "With a recorded population of 2,731,571 in 2016, it is the most populous city in Canada and the fourth most populous city in North America.\n",
    "\n",
    "The city is the anchor of the Golden Horseshoe, an urban agglomeration of 9,245,438 people (as of 2016) surrounding the western end of Lake Ontario, while the Greater Toronto Area (GTA) proper had a 2016 population of 6,417,516.\n",
    "\n",
    "Toronto is an international centre of business, finance, arts, and culture, and is recognized as one of the most multicultural and cosmopolitan cities in the world.\n",
    "\n",
    "The diverse population of Toronto reflects its current and historical role as an important destination for immigrants to Canada.\n",
    "\n",
    "More than 50 percent of residents belong to a visible minority population group, and over 200 distinct ethnic origins are represented among its inhabitants. While the majority of Torontonians speak English as their primary language, over 160 languages are spoken in the city.\n",
    "\n",
    "Toronto is a prominent centre for music, theatre, motion picture production, and television production, and is home to the headquarters of Canada's major national broadcast networks and media outlets.\n",
    "\n",
    "The city is home to the Toronto Stock Exchange, the headquarters of Canada's five largest banks, and the headquarters of many large Canadian and multinational corporations. Its economy is highly diversified with strengths in technology, design, financial services, life sciences, education, arts, fashion, aerospace, environmental innovation, food services, and tourism.\n",
    "\n",
    "I used to live in Canada (Montreal) for a few years and I visited Toronto very often. I really appreciated the atmosphere of this city, dynamic and relaxed at the same time.\n"
   ]
  },
  {
   "cell_type": "markdown",
   "metadata": {},
   "source": [
    "### Data"
   ]
  },
  {
   "cell_type": "markdown",
   "metadata": {},
   "source": [
    "In order to answer the above questions, data on Toronto neighborhoods, boroughs to include boundaries, latitude, longitude are required.\n",
    "\n",
    "Toronoto data containing the neighborhoods and boroughs, latitudes, and longitudes will be obtained from the data source: https://cocl.us/Geospatial_data.\n",
    "\n",
    "All data related to locations will be obtained via the FourSquare API utilized via the Request library in Python.\n"
   ]
  },
  {
   "cell_type": "markdown",
   "metadata": {},
   "source": [
    "### Methodology"
   ]
  },
  {
   "cell_type": "markdown",
   "metadata": {},
   "source": [
    "• Data will be collected from http://cocl.us/Geospatial_data and cleaned and processed into a dataframe.\n",
    "\n",
    "• FourSquare be used to locate and filtered all venues .\n",
    "\n",
    "• Data will be sorted based on rankings.\n",
    "\n",
    "• Finally, the data be will be visually assessed using graphing from Python libraries."
   ]
  },
  {
   "cell_type": "markdown",
   "metadata": {},
   "source": [
    "### Problem Statement"
   ]
  },
  {
   "cell_type": "markdown",
   "metadata": {},
   "source": [
    "1. What is / are the best location(s) in Toronto?\n",
    "2. In what Neighborhood and/or borough we have the best chance of being successful in business?\n",
    "3. Where would we go in Toronto to have the best experience?"
   ]
  }
 ],
 "metadata": {
  "kernelspec": {
   "display_name": "Python 3.7",
   "language": "python",
   "name": "python3"
  },
  "language_info": {
   "codemirror_mode": {
    "name": "ipython",
    "version": 3
   },
   "file_extension": ".py",
   "mimetype": "text/x-python",
   "name": "python",
   "nbconvert_exporter": "python",
   "pygments_lexer": "ipython3",
   "version": "3.7.9"
  }
 },
 "nbformat": 4,
 "nbformat_minor": 1
}
